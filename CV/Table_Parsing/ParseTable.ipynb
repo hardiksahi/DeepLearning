{
  "nbformat": 4,
  "nbformat_minor": 0,
  "metadata": {
    "colab": {
      "name": "ParseTable.ipynb",
      "provenance": [],
      "mount_file_id": "1yueTdFYkfvFgd3x2XkStBeBpBxThWHXq",
      "authorship_tag": "ABX9TyNVQvgewtFjw/hnUuWXJ+7+",
      "include_colab_link": true
    },
    "kernelspec": {
      "name": "python3",
      "display_name": "Python 3"
    },
    "accelerator": "GPU"
  },
  "cells": [
    {
      "cell_type": "markdown",
      "metadata": {
        "id": "view-in-github",
        "colab_type": "text"
      },
      "source": [
        "<a href=\"https://colab.research.google.com/github/hardiksahi/DeepLearning/blob/master/ParseTable.ipynb\" target=\"_parent\"><img src=\"https://colab.research.google.com/assets/colab-badge.svg\" alt=\"Open In Colab\"/></a>"
      ]
    },
    {
      "cell_type": "markdown",
      "metadata": {
        "id": "D36G0NOaNLaL"
      },
      "source": [
        "## I will be using RetinaNet as the object detector. More details regarding RetinaNet can be had from \n",
        "\n",
        "\n",
        "*   https://blog.zenggyu.com/en/post/2018-12-05/retinanet-explained-and-demystified/#fnref6\n",
        "*   https://developers.arcgis.com/python/guide/how-retinanet-works/\n",
        "\n",
        "Important things to know about RetinaNet object detector are:\n",
        "\n",
        "\n",
        "*   Uses Feature Pyramid Network (FPN) built on the top of any convolutional network like Resnet 50, 101 etc.\n",
        "*   Uses a modified version of classification loss called Focal Loss as it takes into consideration the extreme foreground-background class imbalance problem due to dense sampling of anchor boxes\n",
        "\n",
        "RetinaNet in Pytorch: https://github.com/yhenon/pytorch-retinanet\n",
        "\n",
        "\n",
        "\n"
      ]
    },
    {
      "cell_type": "code",
      "metadata": {
        "id": "5bh3Nfj63MdA"
      },
      "source": [
        "import os\n",
        "os.chdir(\"/content/drive/My Drive/Education/DL_ML/Colab_Notebooks/TableParser/\")"
      ],
      "execution_count": 1,
      "outputs": []
    },
    {
      "cell_type": "code",
      "metadata": {
        "id": "Oee1ESQjNEuj"
      },
      "source": [
        "#! git clone https://github.com/yhenon/pytorch-retinanet.git"
      ],
      "execution_count": 2,
      "outputs": []
    },
    {
      "cell_type": "code",
      "metadata": {
        "id": "froYJU3-yRHt",
        "outputId": "3b8b114e-d2c9-4b5d-e3dd-a13042c9a070",
        "colab": {
          "base_uri": "https://localhost:8080/",
          "height": 119
        }
      },
      "source": [
        "! apt-get install tk-dev python-tk"
      ],
      "execution_count": 2,
      "outputs": [
        {
          "output_type": "stream",
          "text": [
            "Reading package lists... Done\n",
            "Building dependency tree       \n",
            "Reading state information... Done\n",
            "tk-dev is already the newest version (8.6.0+9).\n",
            "python-tk is already the newest version (2.7.17-1~18.04).\n",
            "0 upgraded, 0 newly installed, 0 to remove and 6 not upgraded.\n"
          ],
          "name": "stdout"
        }
      ]
    },
    {
      "cell_type": "code",
      "metadata": {
        "id": "ZOEENEVpyj6p"
      },
      "source": [
        "! pip install pandas\n",
        "! pip install pycocotools\n",
        "! pip install opencv-python\n",
        "! pip install requests"
      ],
      "execution_count": null,
      "outputs": []
    },
    {
      "cell_type": "code",
      "metadata": {
        "id": "Koch4EdHyuh8"
      },
      "source": [
        "#! python pytorch-retinanet/train.py --dataset csv --csv_train Images/retinanet_train.csv --csv_val Images/retinanet_val.csv --csv_classes Images/retinanet_classes.csv --depth 50 --epochs=20"
      ],
      "execution_count": null,
      "outputs": []
    },
    {
      "cell_type": "code",
      "metadata": {
        "id": "XNQnuTyuloyV"
      },
      "source": [
        "## Validate on test set:\n",
        "! python pytorch-retinanet/visualize.py --dataset csv --csv_classes Images/retinanet_classes.csv --csv_val Images/retinanet_test_new.csv --model csv_retinanet_15.pt --output_path Images/test_new_tagged/"
      ],
      "execution_count": null,
      "outputs": []
    }
  ]
}
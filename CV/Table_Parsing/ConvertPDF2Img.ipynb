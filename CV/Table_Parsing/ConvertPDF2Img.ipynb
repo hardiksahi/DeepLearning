{
  "nbformat": 4,
  "nbformat_minor": 0,
  "metadata": {
    "colab": {
      "name": "ConvertPDF2Img.ipynb",
      "provenance": [],
      "mount_file_id": "1sn34B80HXfBAgA6WEv5hU67JzcU09yQI",
      "authorship_tag": "ABX9TyM/+zn+xqRosVbh0dsDJ+nG",
      "include_colab_link": true
    },
    "kernelspec": {
      "name": "python3",
      "display_name": "Python 3"
    },
    "accelerator": "GPU"
  },
  "cells": [
    {
      "cell_type": "markdown",
      "metadata": {
        "id": "view-in-github",
        "colab_type": "text"
      },
      "source": [
        "<a href=\"https://colab.research.google.com/github/hardiksahi/DeepLearning/blob/master/ConvertPDF2Img.ipynb\" target=\"_parent\"><img src=\"https://colab.research.google.com/assets/colab-badge.svg\" alt=\"Open In Colab\"/></a>"
      ]
    },
    {
      "cell_type": "markdown",
      "metadata": {
        "id": "JOzywOe1ui3E"
      },
      "source": [
        "Convert pdf to image\n",
        "https://github.com/ferrygun/PDFTableExtract/blob/master/PDF2Img.ipynb"
      ]
    },
    {
      "cell_type": "code",
      "metadata": {
        "id": "JQ6lr7ois6fn"
      },
      "source": [
        "!pip install pdf2image"
      ],
      "execution_count": null,
      "outputs": []
    },
    {
      "cell_type": "code",
      "metadata": {
        "id": "0Tudtt2Buu0k"
      },
      "source": [
        "!apt-get install -y poppler-utils"
      ],
      "execution_count": null,
      "outputs": []
    },
    {
      "cell_type": "code",
      "metadata": {
        "id": "-7wJtNrAuyIA"
      },
      "source": [
        "#!ls drive/My\\ Drive/Education/DL_ML/Colab_Notebooks/TableParser"
      ],
      "execution_count": null,
      "outputs": []
    },
    {
      "cell_type": "code",
      "metadata": {
        "id": "NiXdzl-9wRc_"
      },
      "source": [
        "import os\n",
        "os.chdir(\"/content/drive/My Drive/Education/DL_ML/Colab_Notebooks/TableParser/\")"
      ],
      "execution_count": null,
      "outputs": []
    },
    {
      "cell_type": "code",
      "metadata": {
        "id": "lzJpM9DWwXkB"
      },
      "source": [
        "print(os.getcwd())"
      ],
      "execution_count": null,
      "outputs": []
    },
    {
      "cell_type": "code",
      "metadata": {
        "id": "x_xM9aWOxmLy"
      },
      "source": [
        "## Set path variables\n",
        "PDF_PATH = os.path.join(os.getcwd(), \"PDF\")\n",
        "IMAGE_PATH = os.path.join(os.getcwd(), \"Images\")"
      ],
      "execution_count": null,
      "outputs": []
    },
    {
      "cell_type": "code",
      "metadata": {
        "id": "_8E0cMAByFWs"
      },
      "source": [
        "import glob\n",
        "from pdf2image import convert_from_path"
      ],
      "execution_count": null,
      "outputs": []
    },
    {
      "cell_type": "code",
      "metadata": {
        "id": "5fSAqszoy6wj"
      },
      "source": [
        "for pdf_path in glob.glob(PDF_PATH+'/*.pdf'):\n",
        "  file_name = (pdf_path.split(\"/\")[-1]).split(\".\")[0]\n",
        "  print(\"file_name is {f}\".format(f=file_name))\n",
        "  images = convert_from_path(pdf_path)\n",
        "  print(\"number of images from pdf {f} is {n}\".format(f=file_name, n=len(images)))\n",
        "  for i, image in enumerate(images):\n",
        "      fname = file_name +\"_\"+ str(i) + \".jpg\"\n",
        "      img_path = IMAGE_PATH+\"/\"+fname\n",
        "      image.save(img_path, \"JPEG\")"
      ],
      "execution_count": null,
      "outputs": []
    },
    {
      "cell_type": "markdown",
      "metadata": {
        "id": "KF5lyRwg4exV"
      },
      "source": [
        "## Get the list of images, sort them and convert it into training, dev and test set"
      ]
    },
    {
      "cell_type": "code",
      "metadata": {
        "id": "KRNXAtlH4Wt7"
      },
      "source": [
        "image_path_list = [image_path for image_path in glob.glob(IMAGE_PATH+'/*.jpg')]"
      ],
      "execution_count": null,
      "outputs": []
    },
    {
      "cell_type": "code",
      "metadata": {
        "id": "bHzCmOT0484j"
      },
      "source": [
        "from random import shuffle"
      ],
      "execution_count": null,
      "outputs": []
    },
    {
      "cell_type": "code",
      "metadata": {
        "id": "u7vMOZkC5SGC"
      },
      "source": [
        "shuffle(image_path_list)"
      ],
      "execution_count": null,
      "outputs": []
    },
    {
      "cell_type": "code",
      "metadata": {
        "id": "pjd0esWB5jmQ"
      },
      "source": [
        "train_percent = 0.8\n",
        "val_percent = 0.2"
      ],
      "execution_count": null,
      "outputs": []
    },
    {
      "cell_type": "code",
      "metadata": {
        "id": "FX_-7Y_J5WTY"
      },
      "source": [
        "train_image_path_list = image_path_list[:int(len(image_path_list)*train_percent)]\n",
        "test_image_path_list = image_path_list[int(len(image_path_list)*train_percent):]"
      ],
      "execution_count": null,
      "outputs": []
    },
    {
      "cell_type": "code",
      "metadata": {
        "id": "LPqO62MB6F66"
      },
      "source": [
        "print(\"totl number of images is {n}\".format(n=len(image_path_list)))"
      ],
      "execution_count": null,
      "outputs": []
    },
    {
      "cell_type": "code",
      "metadata": {
        "id": "-TxmOuML6NBf"
      },
      "source": [
        "print(\"totl number of training images is {n} and testing images is {m} and total is {t}\".format(n=len(train_image_path_list), m=len(test_image_path_list), t=len(train_image_path_list)+len(test_image_path_list)))"
      ],
      "execution_count": null,
      "outputs": []
    },
    {
      "cell_type": "code",
      "metadata": {
        "id": "EicrTMU-6iy2"
      },
      "source": [
        "val_image_path_list = train_image_path_list[:int(len(train_image_path_list)*val_percent)]\n",
        "train_image_path_list = train_image_path_list[int(len(train_image_path_list)*val_percent):]"
      ],
      "execution_count": null,
      "outputs": []
    },
    {
      "cell_type": "code",
      "metadata": {
        "id": "Oqf6F8MV69Y3"
      },
      "source": [
        "print(\"Train images count : {train}\".format(train=len(train_image_path_list)))\n",
        "print(\"Val images count: {val}\".format(val=len(val_image_path_list)))\n",
        "print(\"Test images count: {test}\".format(test=len(test_image_path_list)))"
      ],
      "execution_count": null,
      "outputs": []
    },
    {
      "cell_type": "markdown",
      "metadata": {
        "id": "Hey6WLVB7aWH"
      },
      "source": [
        "Now, move images to respective folder\n"
      ]
    },
    {
      "cell_type": "code",
      "metadata": {
        "id": "5AEG9i-M8P4x"
      },
      "source": [
        "import shutil"
      ],
      "execution_count": null,
      "outputs": []
    },
    {
      "cell_type": "code",
      "metadata": {
        "id": "EnPHVxbu7XXb"
      },
      "source": [
        "def move_files(file_list, dest_folder):\n",
        "  for src_file_path in file_list:\n",
        "    file_name_with_ext = src_file_path.split(\"/\")[-1]\n",
        "    shutil.move(src_file_path, dest_folder+file_name_with_ext)"
      ],
      "execution_count": null,
      "outputs": []
    },
    {
      "cell_type": "code",
      "metadata": {
        "id": "HfAKnctE9GVl"
      },
      "source": [
        "#move_files(train_image_path_list, IMAGE_PATH+'/train/')"
      ],
      "execution_count": null,
      "outputs": []
    },
    {
      "cell_type": "code",
      "metadata": {
        "id": "Ll259-Xd9cQ2"
      },
      "source": [
        "#move_files(val_image_path_list, IMAGE_PATH+'/val/')"
      ],
      "execution_count": null,
      "outputs": []
    },
    {
      "cell_type": "code",
      "metadata": {
        "id": "UdGVwAAn9hBW"
      },
      "source": [
        "#move_files(test_image_path_list, IMAGE_PATH+'/test/')"
      ],
      "execution_count": null,
      "outputs": []
    },
    {
      "cell_type": "code",
      "metadata": {
        "id": "cM4t0FMa9xmJ"
      },
      "source": [
        "## Count number of files again\n",
        "print(\"Training folder image count: {c}\".format(c=len([image_path for image_path in glob.glob(IMAGE_PATH+'/train/*.jpg')])))"
      ],
      "execution_count": null,
      "outputs": []
    },
    {
      "cell_type": "code",
      "metadata": {
        "id": "RX1IKhDI-E2v"
      },
      "source": [
        "print(\"Validation folder image count: {c}\".format(c=len([image_path for image_path in glob.glob(IMAGE_PATH+'/val/*.jpg')])))"
      ],
      "execution_count": null,
      "outputs": []
    },
    {
      "cell_type": "code",
      "metadata": {
        "id": "GmggjpCb-JfI"
      },
      "source": [
        "print(\"Test folder image count: {c}\".format(c=len([image_path for image_path in glob.glob(IMAGE_PATH+'/test/*.jpg')])))"
      ],
      "execution_count": null,
      "outputs": []
    }
  ]
}
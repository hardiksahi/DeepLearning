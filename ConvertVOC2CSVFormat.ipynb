{
  "nbformat": 4,
  "nbformat_minor": 0,
  "metadata": {
    "colab": {
      "name": "ConvertVOC2CSVFormat.ipynb",
      "provenance": [],
      "collapsed_sections": [],
      "mount_file_id": "1ofFXu0oWIu8C70SFnE5ZFXuMhfwVNKPQ",
      "authorship_tag": "ABX9TyMe0oYl5bU4D+XyOs4Wa/rc",
      "include_colab_link": true
    },
    "kernelspec": {
      "name": "python3",
      "display_name": "Python 3"
    }
  },
  "cells": [
    {
      "cell_type": "markdown",
      "metadata": {
        "id": "view-in-github",
        "colab_type": "text"
      },
      "source": [
        "<a href=\"https://colab.research.google.com/github/hardiksahi/DeepLearning/blob/master/ConvertVOC2CSVFormat.ipynb\" target=\"_parent\"><img src=\"https://colab.research.google.com/assets/colab-badge.svg\" alt=\"Open In Colab\"/></a>"
      ]
    },
    {
      "cell_type": "markdown",
      "metadata": {
        "id": "dRdD7FqCIK2H"
      },
      "source": [
        "Code to convert PASCALVOC format (XML) to CSV format (path/to/image.jpg,x1,y1,x2,y2,class_name) \n",
        "https://github.com/ferrygun/PDFTableExtract/blob/master/build_logos.py"
      ]
    },
    {
      "cell_type": "code",
      "metadata": {
        "id": "xOzcHkVYH3KJ"
      },
      "source": [
        "from bs4 import BeautifulSoup\n",
        "import glob\n",
        "from random import shuffle"
      ],
      "execution_count": 1,
      "outputs": []
    },
    {
      "cell_type": "code",
      "metadata": {
        "id": "Yqy7I51XXgyt"
      },
      "source": [
        "import os\n",
        "os.chdir(\"/content/drive/My Drive/Education/DL_ML/Colab_Notebooks/TableParser/\")"
      ],
      "execution_count": 2,
      "outputs": []
    },
    {
      "cell_type": "code",
      "metadata": {
        "id": "0eOiyqf5Xi6V",
        "outputId": "e4f14a06-39ef-4416-9d85-035b31140d05",
        "colab": {
          "base_uri": "https://localhost:8080/",
          "height": 34
        }
      },
      "source": [
        "print(os.getcwd())"
      ],
      "execution_count": 3,
      "outputs": [
        {
          "output_type": "stream",
          "text": [
            "/content/drive/My Drive/Education/DL_ML/Colab_Notebooks/TableParser\n"
          ],
          "name": "stdout"
        }
      ]
    },
    {
      "cell_type": "code",
      "metadata": {
        "id": "N2rxEPmpXlTQ"
      },
      "source": [
        "## Set path variables\n",
        "#PDF_PATH = os.path.join(os.getcwd(), \"PDF\")\n",
        "IMAGE_PATH = os.path.join(os.getcwd(), \"Images\")"
      ],
      "execution_count": 4,
      "outputs": []
    },
    {
      "cell_type": "code",
      "metadata": {
        "id": "e-Ux0t1USUxq"
      },
      "source": [
        "#datasets = ['train', 'val', 'test']\n",
        "datasets = ['test_new']"
      ],
      "execution_count": 7,
      "outputs": []
    },
    {
      "cell_type": "code",
      "metadata": {
        "id": "NpsfD13xYYdo"
      },
      "source": [
        "CLASSES = set()\n",
        "\n",
        "for ds_type in datasets:\n",
        "  output_csv = open(IMAGE_PATH+'/retinanet_'+ds_type+'.csv', \"w\")\n",
        "  #print(\"output_csv path for {ds} is {p}\".format(ds=ds_type, p=output_csv))\n",
        "\n",
        "  all_images_path_list = [p for p in glob.glob(IMAGE_PATH+'/'+ds_type+'/*.jpg')] ## All the image paths in the folder.\n",
        "  #print(\"All images in {ds} is {n}\".format(ds=ds_type, n=len(all_images_path_list)))\n",
        "\n",
        "  #tagged_images_path_list = [p for p in glob.glob(IMAGE_PATH+'/'+ds_type+'/labels_'+ds_type+'/*.xml')] ## All tagged images within that ds_type\n",
        "  #print(\"Tagged images in {ds} is {n}\".format(ds=ds_type, n=len(tagged_images_path_list)))\n",
        "\n",
        "  shuffle(all_images_path_list)\n",
        "  for image_path in all_images_path_list:\n",
        "    image_name = (image_path.split('/')[-1]).split('.')[0] ## Image name without extension\n",
        "    \n",
        "    tagged_image_path = IMAGE_PATH+'/'+ds_type+'/labels_'+ds_type+'/'+image_name+'.xml'\n",
        "\n",
        "    if os.path.isfile(tagged_image_path):\n",
        "      contents = open(tagged_image_path).read()\n",
        "      soup = BeautifulSoup(contents, \"html.parser\")\n",
        "      coords = set()\n",
        "\n",
        "      w = int(soup.find(\"width\").string)\n",
        "      h = int(soup.find(\"height\").string)\n",
        "      #print(\"Width:{w} and Height:{h}\".format(w=w, h=h))\n",
        "\n",
        "      for o in soup.find_all(\"object\"):\n",
        "        label = o.find(\"name\").string\n",
        "        xMin = int(o.find(\"xmin\").string)\n",
        "        yMin = int(o.find(\"ymin\").string)\n",
        "        xMax = int(o.find(\"xmax\").string)\n",
        "        yMax = int(o.find(\"ymax\").string)\n",
        "\n",
        "        xMin = max(0, xMin)\n",
        "        yMin = max(0, yMin)\n",
        "        xMax = min(w, xMax)\n",
        "        yMax = min(h, yMax)\n",
        "\n",
        "        coord = (xMin, yMin, xMax, yMax)\n",
        "\n",
        "        if coord in coords:\n",
        "          continue\n",
        "\n",
        "        row = [image_path, str(xMin), str(yMin),str(xMax), str(yMax), label]\n",
        "        output_csv.write(\"{}\\n\".format(\",\".join(row)))\n",
        "        coords.add(coord)\n",
        "        CLASSES.add(label)\n",
        "\n",
        "    else:\n",
        "      row = [image_path,'','','','','']\n",
        "      output_csv.write(\"{}\\n\".format(\",\".join(row)))\n",
        "  \n",
        "  output_csv.close()    "
      ],
      "execution_count": 8,
      "outputs": []
    },
    {
      "cell_type": "code",
      "metadata": {
        "id": "DeHiOHiUjf3I",
        "outputId": "9d17e24f-1879-48ee-c610-36b5f36461f8",
        "colab": {
          "base_uri": "https://localhost:8080/",
          "height": 34
        }
      },
      "source": [
        "write the classes to file\n",
        "print(\"[INFO] writing classes...\")\n",
        "class_csv = open(IMAGE_PATH+'/retinanet_classes.csv', \"w\")\n",
        "rows = [\",\".join([c, str(i)]) for (i, c) in enumerate(CLASSES)]\n",
        "class_csv.write(\"\\n\".join(rows))\n",
        "class_csv.close() "
      ],
      "execution_count": 7,
      "outputs": [
        {
          "output_type": "stream",
          "text": [
            "[INFO] writing classes...\n"
          ],
          "name": "stdout"
        }
      ]
    },
    {
      "cell_type": "code",
      "metadata": {
        "id": "F1u_Ap3suQ_z",
        "outputId": "73d2a8c6-fff7-4a0c-be4a-f4861c6c4f1b",
        "colab": {
          "base_uri": "https://localhost:8080/",
          "height": 34
        }
      },
      "source": [
        "CLASSES"
      ],
      "execution_count": 8,
      "outputs": [
        {
          "output_type": "execute_result",
          "data": {
            "text/plain": [
              "{'table'}"
            ]
          },
          "metadata": {
            "tags": []
          },
          "execution_count": 8
        }
      ]
    }
  ]
}